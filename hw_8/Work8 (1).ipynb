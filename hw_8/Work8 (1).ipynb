{
  "nbformat": 4,
  "nbformat_minor": 0,
  "metadata": {
    "colab": {
      "provenance": []
    },
    "kernelspec": {
      "name": "python3",
      "display_name": "Python 3"
    },
    "language_info": {
      "name": "python"
    }
  },
  "cells": [
    {
      "cell_type": "markdown",
      "source": [
        "#Работа с API"
      ],
      "metadata": {
        "id": "GWQwVJTME5Z_"
      }
    },
    {
      "cell_type": "code",
      "execution_count": 1,
      "metadata": {
        "id": "TnZtSUopDdkj"
      },
      "outputs": [],
      "source": [
        "import requests\n",
        "import pandas as pd\n",
        "from time import sleep"
      ]
    },
    {
      "cell_type": "code",
      "source": [
        "def fetch_paginated_data(endpoint, params=None):\n",
        "    base_url = f\"https://www.anapioficeandfire.com/api/{endpoint}\"\n",
        "    all_data = []\n",
        "    page = 1\n",
        "    page_size = 50\n",
        "\n",
        "    while True:\n",
        "        request_params = {\n",
        "            'page': page,\n",
        "            'pageSize': page_size,\n",
        "            **(params or {})\n",
        "        }\n",
        "\n",
        "        response = requests.get(base_url, params=request_params)\n",
        "\n",
        "        if response.status_code != 200:\n",
        "            print(f\"Ошибка {response.status_code} на странице {page}\")\n",
        "            break\n",
        "\n",
        "        data = response.json()\n",
        "        if not data:\n",
        "            break\n",
        "\n",
        "        all_data.extend(data)\n",
        "        page += 1\n",
        "        sleep(0.5)\n",
        "\n",
        "    return all_data\n",
        "\n",
        "books = fetch_paginated_data('books')\n",
        "df_books = pd.DataFrame(books)\n",
        "\n",
        "houses = fetch_paginated_data('houses')\n",
        "df_houses = pd.DataFrame(houses)\n",
        "\n",
        "houses_with_devis = fetch_paginated_data('houses', params={'hasWords': 'true'})\n",
        "df_houses_with_devis = pd.DataFrame(houses_with_devis)\n",
        "\n",
        "df_books.to_csv('Книги.csv', index=False)\n",
        "df_houses.to_csv('Дома.csv', index=False)\n",
        "df_houses_with_devis.to_csv('Дома с девизом.csv', index=False)"
      ],
      "metadata": {
        "id": "N54xxA3cDpMU"
      },
      "execution_count": 24,
      "outputs": []
    },
    {
      "cell_type": "code",
      "source": [
        "print(\"\\nПримеры домов с девизом:\")\n",
        "print(df_houses_with_devis[['name', 'words']].head(10))"
      ],
      "metadata": {
        "colab": {
          "base_uri": "https://localhost:8080/"
        },
        "id": "9bGvduHeEaDP",
        "outputId": "619415dc-a534-4764-c406-5296c9f1c48f"
      },
      "execution_count": 25,
      "outputs": [
        {
          "output_type": "stream",
          "name": "stdout",
          "text": [
            "\n",
            "Примеры домов с девизом:\n",
            "                             name                  words\n",
            "0     House Allyrion of Godsgrace        No Foe May Pass\n",
            "1                   House Ambrose          Never Resting\n",
            "2        House Arryn of the Eyrie       As High as Honor\n",
            "3        House Ashford of Ashford  Our Sun Shines Bright\n",
            "4  House Baratheon of Storm's End       Ours is the Fury\n",
            "5     House Beesbury of Honeyholt       Beware our Sting\n",
            "6   House Bolton of the Dreadfort   Our Blades are Sharp\n",
            "7   House Buckwell of the Antlers      Pride and Purpose\n",
            "8      House Bulwer of Blackcrown  Death Before Disgrace\n",
            "9        House Caron of Nightsong       No Song so Sweet\n"
          ]
        }
      ]
    },
    {
      "cell_type": "code",
      "source": [
        "print(\"\\nПримеры книг:\")\n",
        "print(df_books[['name', 'authors']].head(10))"
      ],
      "metadata": {
        "colab": {
          "base_uri": "https://localhost:8080/"
        },
        "id": "qiA-PqhqFYJ2",
        "outputId": "658d1f03-3ac7-440a-e951-23282a846427"
      },
      "execution_count": 15,
      "outputs": [
        {
          "output_type": "stream",
          "name": "stdout",
          "text": [
            "\n",
            "Примеры книг:\n",
            "                         name                authors\n",
            "0           A Game of Thrones  [George R. R. Martin]\n",
            "1            A Clash of Kings  [George R. R. Martin]\n",
            "2           A Storm of Swords  [George R. R. Martin]\n",
            "3            The Hedge Knight  [George R. R. Martin]\n",
            "4           A Feast for Crows  [George R. R. Martin]\n",
            "5             The Sworn Sword  [George R. R. Martin]\n",
            "6          The Mystery Knight  [George R. R. Martin]\n",
            "7        A Dance with Dragons  [George R. R. Martin]\n",
            "8  The Princess and the Queen  [George R. R. Martin]\n",
            "9            The Rogue Prince  [George R. R. Martin]\n"
          ]
        }
      ]
    },
    {
      "cell_type": "markdown",
      "source": [
        "#Работа с БД"
      ],
      "metadata": {
        "id": "BPV-3VBKFAR_"
      }
    },
    {
      "cell_type": "code",
      "source": [
        "import psycopg2\n",
        "import pandas as pd"
      ],
      "metadata": {
        "id": "O90_3CRgFDEG"
      },
      "execution_count": 20,
      "outputs": []
    },
    {
      "cell_type": "code",
      "source": [
        "def connect_to_db():\n",
        "    \"\"\"Подключение к публичной БД EBI\"\"\"\n",
        "    try:\n",
        "        conn = psycopg2.connect(\n",
        "            host=\"hh-pgsql-public.ebi.ac.uk\",\n",
        "            port=5432,\n",
        "            database=\"pfmegrnargs\",\n",
        "            user=\"reader\",\n",
        "            password=\"NWDMCE5xdipIjRrp\"\n",
        "        )\n",
        "        print(\"ОК\")\n",
        "        return conn\n",
        "    except Exception as e:\n",
        "        print(f\"Ошибка подключения: {e}\")\n",
        "        return None\n",
        "\n",
        "def db_operations():\n",
        "    conn = connect_to_db()\n",
        "    if not conn:\n",
        "        return\n",
        "\n",
        "    try:\n",
        "        with conn.cursor() as cursor:\n",
        "            cursor.execute(\"SELECT * FROM rnc_database LIMIT 10\")\n",
        "            rows = cursor.fetchall()\n",
        "            colnames = [desc[0] for desc in cursor.description]\n",
        "\n",
        "            df_full = pd.DataFrame(rows, columns=colnames)\n",
        "            print(\"\\nПервые 10 строк (все столбцы):\")\n",
        "            print(df_full.head())\n",
        "\n",
        "            df_full.to_csv('10 строк.csv', index=False)\n",
        "\n",
        "        with conn.cursor() as cursor:\n",
        "            cursor.execute(\n",
        "                \"SELECT display_name, num_sequences, num_organisms, url \"\n",
        "                \"FROM rnc_database LIMIT 10\"\n",
        "            )\n",
        "            rows = cursor.fetchall()\n",
        "\n",
        "            df_specific = pd.DataFrame(\n",
        "                rows,\n",
        "                columns=['display_name', 'num_sequences', 'num_organisms', 'url']\n",
        "            )\n",
        "\n",
        "            print(\"\\nСпецифичные столбцы для 10 строк:\")\n",
        "            print(df_specific)\n",
        "\n",
        "            df_specific.to_csv('Новые 10 строк.csv', index=False)\n",
        "\n",
        "        return df_full, df_specific\n",
        "\n",
        "    except Exception as e:\n",
        "        print(f\"Ошибка при выполнении запроса: {e}\")\n",
        "    finally:\n",
        "        conn.close()\n",
        "        print(\"Соединение с базой данных закрыто\")\n",
        "\n",
        "if __name__ == \"__main__\":\n",
        "    df_full, df_specific = db_operations()"
      ],
      "metadata": {
        "colab": {
          "base_uri": "https://localhost:8080/"
        },
        "id": "BJOB6vcaGOqu",
        "outputId": "4cde0a09-e582-4b95-b99a-16daa558c030"
      },
      "execution_count": 26,
      "outputs": [
        {
          "output_type": "stream",
          "name": "stdout",
          "text": [
            "ОК\n",
            "\n",
            "Первые 10 строк (все столбцы):\n",
            "   id  timestamp userstamp    descr  current_release full_descr alive  \\\n",
            "0  21 2017-05-02    RNACEN  NONCODE              146    NONCODE     Y   \n",
            "1   5 2017-05-17    RNACEN     VEGA               98       VEGA     N   \n",
            "2  26 2017-05-01    RNACEN  GENCODE              450    GENCODE     N   \n",
            "3   1 2017-05-01    RNACEN      ENA              968        ENA     Y   \n",
            "4  14 2017-05-01    RNACEN     TAIR              982       TAIR     Y   \n",
            "\n",
            "  for_release display_name project_id  avg_length  min_length  max_length  \\\n",
            "0                  NONCODE                 1130.0       201.0    244296.0   \n",
            "1                     VEGA  PRJEB4568         NaN         NaN         NaN   \n",
            "2                  GENCODE                  889.0        32.0    205012.0   \n",
            "3                      ENA                  412.0        10.0    900074.0   \n",
            "4                     TAIR   PRJ_TAIR       384.0        19.0      6227.0   \n",
            "\n",
            "   num_sequences  num_organisms  \\\n",
            "0         234669              7   \n",
            "1              0              0   \n",
            "2          47677              2   \n",
            "3       12086180         814855   \n",
            "4           4406              1   \n",
            "\n",
            "                                         description  \\\n",
            "0  is an integrated knowledge database dedicated ...   \n",
            "1  is a repository for high-quality gene models p...   \n",
            "2  produces high quality reference gene annotatio...   \n",
            "3  provides a comprehensive record of the world's...   \n",
            "4  is a database of genetic and molecular biology...   \n",
            "\n",
            "                                  url  \\\n",
            "0             http://www.noncode.org/   \n",
            "1           http://vega.sanger.ac.uk/   \n",
            "2            http://gencodegenes.org/   \n",
            "3  https://www.ebi.ac.uk/ena/browser/   \n",
            "4         http://www.arabidopsis.org/   \n",
            "\n",
            "                                             example  \\\n",
            "0  [{'upi': 'URS000019B796', 'taxid': 9606}, {'up...   \n",
            "1  [{'upi': 'URS00000B15DA', 'taxid': 9606}, {'up...   \n",
            "2  [{'upi': 'URS00000B15DA', 'taxid': 9606}, {'up...   \n",
            "3  [{'upi': 'URS00002D0E0C', 'taxid': 10090}, {'u...   \n",
            "4  [{'upi': 'URS0000591E4F', 'taxid': 3702}, {'up...   \n",
            "\n",
            "                                           reference  \n",
            "0  [{'title': 'NONCODE 2016: an informative and v...  \n",
            "1  [{'title': 'The GENCODE v7 catalog of human lo...  \n",
            "2  [{'title': 'GENCODE: the reference human genom...  \n",
            "3  [{'title': 'The European Nucleotide Archive in...  \n",
            "4  [{'title': 'The Arabidopsis Information Resour...  \n",
            "\n",
            "Специфичные столбцы для 10 строк:\n",
            "  display_name  num_sequences  num_organisms  \\\n",
            "0      NONCODE         234669              7   \n",
            "1         VEGA              0              0   \n",
            "2      GENCODE          47677              2   \n",
            "3          ENA       12086180         814855   \n",
            "4         TAIR           4406              1   \n",
            "5       RefSeq         120355          22524   \n",
            "6    GeneCards         425357              1   \n",
            "7          RDP           4779           2487   \n",
            "8    LNCipedia         126876              1   \n",
            "9     WormBase          25550              1   \n",
            "\n",
            "                                   url  \n",
            "0              http://www.noncode.org/  \n",
            "1            http://vega.sanger.ac.uk/  \n",
            "2             http://gencodegenes.org/  \n",
            "3   https://www.ebi.ac.uk/ena/browser/  \n",
            "4          http://www.arabidopsis.org/  \n",
            "5  http://www.ncbi.nlm.nih.gov/refseq/  \n",
            "6           https://www.genecards.org/  \n",
            "7              http://rdp.cme.msu.edu/  \n",
            "8            http://www.lncipedia.org/  \n",
            "9             http://www.wormbase.org/  \n",
            "Соединение с базой данных закрыто\n"
          ]
        }
      ]
    }
  ]
}