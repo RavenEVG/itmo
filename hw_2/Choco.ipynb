{
  "nbformat": 4,
  "nbformat_minor": 0,
  "metadata": {
    "colab": {
      "provenance": []
    },
    "kernelspec": {
      "name": "python3",
      "display_name": "Python 3"
    },
    "language_info": {
      "name": "python"
    }
  },
  "cells": [
    {
      "cell_type": "code",
      "execution_count": 17,
      "metadata": {
        "colab": {
          "base_uri": "https://localhost:8080/"
        },
        "id": "7v5RKV-9jQqV",
        "outputId": "9e9f61e0-4383-4a2d-da8e-f7b89e4d36f9"
      },
      "outputs": [
        {
          "output_type": "stream",
          "name": "stdout",
          "text": [
            "Шоколадный батончик, добавка: Грецкий орех\n",
            "Шоколадный батончик, 45 рублей\n",
            "Обычный шоколадный батончик\n",
            "Обычный шоколадный батончик, 30 рублей\n",
            "Шоколадный батончик, добавка: Фисташки\n",
            "Шоколадный батончик, 20.5 рублей\n",
            "Ошибка: Ценв <= 0\n"
          ]
        }
      ],
      "source": [
        "class Chocolate:\n",
        "    def __init__(self, price: float, plus: str = None):\n",
        "        if price <= 0:\n",
        "            raise ValueError(\"Ценв <= 0\")\n",
        "        self.price = price\n",
        "        self.plus = plus\n",
        "\n",
        "    def show_my_chocolate(self):\n",
        "        if self.plus:\n",
        "            print(f\"Шоколадный батончик, добавка: {self.plus}\")\n",
        "        else:\n",
        "            print(\"Обычный шоколадный батончик\")\n",
        "\n",
        "    def __str__(self):\n",
        "        if self.plus:\n",
        "          return f\"Шоколадный батончик, {self.price} рублей\"\n",
        "        else:\n",
        "          return f\"Обычный шоколадный батончик, {self.price} рублей\"\n",
        "\n",
        "try:\n",
        "    choc1 = Chocolate(45, \"Грецкий орех\")\n",
        "    choc1.show_my_chocolate()\n",
        "    print(choc1)\n",
        "\n",
        "    choc2 = Chocolate(30)\n",
        "    choc2.show_my_chocolate()\n",
        "    print(choc2)\n",
        "\n",
        "    choc3 = Chocolate(20.5, \"Фисташки\")\n",
        "    choc3.show_my_chocolate()\n",
        "    print(choc3)\n",
        "\n",
        "    choc4 = Chocolate(0, \"Фисташки\")\n",
        "    choc4.show_my_chocolate()\n",
        "    print(choc4)\n",
        "\n",
        "except ValueError as e:\n",
        "    print(f\"Ошибка: {e}\")"
      ]
    }
  ]
}