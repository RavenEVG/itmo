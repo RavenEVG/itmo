{
  "nbformat": 4,
  "nbformat_minor": 0,
  "metadata": {
    "colab": {
      "provenance": []
    },
    "kernelspec": {
      "name": "python3",
      "display_name": "Python 3"
    },
    "language_info": {
      "name": "python"
    }
  },
  "cells": [
    {
      "cell_type": "code",
      "execution_count": 18,
      "metadata": {
        "id": "TYTt6Xb2Lu-W"
      },
      "outputs": [],
      "source": [
        "import pandas as pd\n",
        "from sklearn.model_selection import train_test_split\n",
        "from sklearn.linear_model import LogisticRegression\n",
        "from sklearn.metrics import roc_auc_score  # Импортируем roc_auc_score\n",
        "from sklearn.preprocessing import StandardScaler, OneHotEncoder\n",
        "from sklearn.compose import ColumnTransformer\n",
        "from sklearn.pipeline import Pipeline\n",
        "from sklearn.impute import SimpleImputer\n",
        "import numpy as np"
      ]
    },
    {
      "cell_type": "code",
      "source": [
        "RANDOM_STATE = 42\n",
        "np.random.seed(RANDOM_STATE)\n",
        "\n",
        "data = pd.read_csv('train.csv')\n",
        "\n",
        "X = data.drop('Survived', axis=1)\n",
        "y = data['Survived']\n",
        "\n",
        "X_train, X_test, y_train, y_test = train_test_split(\n",
        "    X, y, test_size=0.1, random_state=RANDOM_STATE, stratify=y\n",
        ")\n",
        "\n",
        "\n",
        "baseline_pred = np.zeros_like(y_test)\n",
        "baseline_roc_auc = roc_auc_score(y_test, baseline_pred) # Считаем ROC AUC для baseline\n",
        "print(f'Baseline ROC AUC: {baseline_roc_auc:.4f}')\n",
        "\n",
        "numeric_features = ['Age', 'Fare']\n",
        "numeric_transformer = Pipeline(steps=[('imputer', SimpleImputer(strategy='median')), ('scaler', StandardScaler())]) # Добавил StandardScaler\n",
        "\n",
        "categorical_features = ['Sex', 'Pclass', 'Embarked']\n",
        "categorical_transformer = Pipeline(steps=[('imputer', SimpleImputer(strategy='most_frequent')), ('onehot',OneHotEncoder(handle_unknown='ignore'))])\n",
        "\n",
        "preprocessor = ColumnTransformer(transformers=[('num', numeric_transformer, numeric_features),('cat', categorical_transformer, categorical_features)])\n",
        "\n",
        "model = Pipeline(steps=[('preprocessor', preprocessor), ('classifier', LogisticRegression(random_state=RANDOM_STATE))])\n",
        "model.fit(X_train, y_train)\n",
        "\n",
        "# Получаем вероятности принадлежности к классу 1 (выжил)\n",
        "y_pred_proba = model.predict_proba(X_test)[:, 1]\n",
        "\n",
        "# Рассчитываем ROC AUC\n",
        "model_roc_auc = roc_auc_score(y_test, y_pred_proba)\n",
        "print(f'Model ROC AUC: {model_roc_auc:.4f}')\n",
        "\n",
        "# Feature Importance (остается практически без изменений, но теперь интерпретируем в контексте влияния на вероятность выживания)\n",
        "if hasattr(model.named_steps['classifier'], 'coef_'):\n",
        "  feature_names = (model.named_steps['preprocessor'].named_transformers_['cat'].named_steps['onehot'].get_feature_names_out(categorical_features))\n",
        "  all_features = numeric_features + list(feature_names)\n",
        "  coef = model.named_steps['classifier'].coef_[0]\n",
        "  print('\\nFeature importance: ')\n",
        "  for feature, importance in zip(all_features, coef):\n",
        "    print(f'{feature}:{importance:.4f}')  # Больше значение -> больше влияет на вероятность выживания\n"
      ],
      "metadata": {
        "colab": {
          "base_uri": "https://localhost:8080/"
        },
        "id": "rRd66R21zJEM",
        "outputId": "235358fb-a078-4ce3-c045-cfd7bb59e409"
      },
      "execution_count": 19,
      "outputs": [
        {
          "output_type": "stream",
          "name": "stdout",
          "text": [
            "Baseline ROC AUC: 0.5000\n",
            "Model ROC AUC: 0.8338\n",
            "\n",
            "Feature importance: \n",
            "Age:-0.4793\n",
            "Fare:0.0360\n",
            "Sex_female:1.3218\n",
            "Sex_male:-1.2082\n",
            "Pclass_1:1.0757\n",
            "Pclass_2:0.1513\n",
            "Pclass_3:-1.1134\n",
            "Embarked_C:0.1924\n",
            "Embarked_Q:0.1964\n",
            "Embarked_S:-0.2753\n"
          ]
        }
      ]
    },
    {
      "cell_type": "markdown",
      "source": [
        "Выбрал метриику roc auc - измеряет способность модели различать между классами (выжил/не выжил), не завися от выбранного порога классификации. Модель LpgisticRegression выбрана как простая интерпретируемая модель бинарной классификации."
      ],
      "metadata": {
        "id": "A7U1Q2iGzery"
      }
    }
  ]
}